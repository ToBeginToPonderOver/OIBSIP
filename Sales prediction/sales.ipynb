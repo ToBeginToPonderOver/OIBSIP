{
 "cells": [
  {
   "cell_type": "markdown",
   "id": "d8e860ae",
   "metadata": {},
   "source": [
    "## 1. Importing the necessary dependencies"
   ]
  },
  {
   "cell_type": "code",
   "execution_count": 1,
   "id": "f9a33522",
   "metadata": {},
   "outputs": [],
   "source": [
    "import pandas as pd\n",
    "import matplotlib.pyplot as plt\n",
    "import numpy as np\n",
    "import seaborn as sns\n",
    "import plotly.io as plio\n",
    "plio.templates\n",
    "import plotly.express as px\n",
    "import plotly.graph_objects as go\n",
    "from sklearn.model_selection import train_test_split\n",
    "\n",
    "from sklearn.metrics import mean_squared_error, r2_score\n",
    "\n",
    "from sklearn.linear_model import LinearRegression, Ridge\n",
    "from sklearn.ensemble import RandomForestRegressor\n",
    "from sklearn.tree import DecisionTreeRegressor \n",
    "\n",
    "import joblib"
   ]
  },
  {
   "cell_type": "markdown",
   "id": "7d9d5f85",
   "metadata": {},
   "source": [
    "## 2. Exploring the dataset"
   ]
  },
  {
   "cell_type": "code",
   "execution_count": 2,
   "id": "6b16f8c6",
   "metadata": {},
   "outputs": [
    {
     "name": "stdout",
     "output_type": "stream",
     "text": [
      "<class 'pandas.core.frame.DataFrame'>\n",
      "RangeIndex: 200 entries, 0 to 199\n",
      "Data columns (total 5 columns):\n",
      " #   Column      Non-Null Count  Dtype  \n",
      "---  ------      --------------  -----  \n",
      " 0   Unnamed: 0  200 non-null    int64  \n",
      " 1   TV          200 non-null    float64\n",
      " 2   Radio       200 non-null    float64\n",
      " 3   Newspaper   200 non-null    float64\n",
      " 4   Sales       200 non-null    float64\n",
      "dtypes: float64(4), int64(1)\n",
      "memory usage: 7.9 KB\n"
     ]
    }
   ],
   "source": [
    "data = pd.read_csv('advertising.csv')\n",
    "data.info()"
   ]
  },
  {
   "cell_type": "markdown",
   "id": "06080e24",
   "metadata": {},
   "source": [
    "### Removing the unnecessary column Unnamed: 0"
   ]
  },
  {
   "cell_type": "code",
   "execution_count": 3,
   "id": "1886e161",
   "metadata": {},
   "outputs": [
    {
     "name": "stdout",
     "output_type": "stream",
     "text": [
      "<class 'pandas.core.frame.DataFrame'>\n",
      "RangeIndex: 200 entries, 0 to 199\n",
      "Data columns (total 4 columns):\n",
      " #   Column     Non-Null Count  Dtype  \n",
      "---  ------     --------------  -----  \n",
      " 0   TV         200 non-null    float64\n",
      " 1   Radio      200 non-null    float64\n",
      " 2   Newspaper  200 non-null    float64\n",
      " 3   Sales      200 non-null    float64\n",
      "dtypes: float64(4)\n",
      "memory usage: 6.4 KB\n"
     ]
    }
   ],
   "source": [
    "data.drop('Unnamed: 0', axis=1, inplace=True)\n",
    "data.info()"
   ]
  },
  {
   "cell_type": "code",
   "execution_count": 4,
   "id": "72ac6968",
   "metadata": {},
   "outputs": [
    {
     "data": {
      "text/plain": [
       "0"
      ]
     },
     "execution_count": 4,
     "metadata": {},
     "output_type": "execute_result"
    }
   ],
   "source": [
    "data.duplicated().sum() # Check for duplicates"
   ]
  },
  {
   "cell_type": "markdown",
   "id": "d0ddbfa6",
   "metadata": {},
   "source": [
    "### Correlation plot to visualize the impact of each feature on target(sales)"
   ]
  },
  {
   "cell_type": "code",
   "execution_count": 5,
   "id": "3324abfd",
   "metadata": {},
   "outputs": [
    {
     "data": {
      "text/plain": [
       "<Axes: >"
      ]
     },
     "execution_count": 5,
     "metadata": {},
     "output_type": "execute_result"
    },
    {
     "data": {
      "image/png": "[encoded data removed]",
      "text/plain": [
       "<Figure size 640x480 with 2 Axes>"
      ]
     },
     "metadata": {},
     "output_type": "display_data"
    }
   ],
   "source": [
    "sns.heatmap(data.corr(),annot=True)"
   ]
  },
  {
   "cell_type": "markdown",
   "id": "a131c0eb",
   "metadata": {},
   "source": [
    "##### From the above correlation plot we have feature: -\n",
    "##### 1. 'TV' having an impact score of 0.78 on Sales\n",
    "##### 2. 'Radio' having an impact score of 0.58 on Sales\n",
    "##### 3. 'Newspaper' having an impact score of 0.23 on Sales"
   ]
  },
  {
   "cell_type": "markdown",
   "id": "cba03343",
   "metadata": {},
   "source": [
    "### [A]Plotly Scatterplot of TV(feature) vs Sales(Target)"
   ]
  },
  {
   "cell_type": "code",
   "execution_count": 6,
   "id": "6198527b",
   "metadata": {},
   "outputs": [
    {
     "data": {
      "application/vnd.plotly.v1+json": {
       "config": {
        "plotlyServerURL": "https://plot.ly"
       },
       "data": [
        {
         "marker": {
          "color": "orange",
          "size": 8
         },
         "mode": "markers",
         "type": "scatter",
         "x": [
          230.1,
          44.5,
          17.2,
          151.5,
          180.8,
          8.7,
          57.5,
          120.2,
          8.6,
          199.8,
          66.1,
          214.7,
          23.8,
          97.5,
          204.1,
          195.4,
          67.8,
          281.4,
          69.2,
          147.3,
          218.4,
          237.4,
          13.2,
          228.3,
          62.3,
          262.9,
          142.9,
          240.1,
          248.8,
          70.6,
          292.9,
          112.9,
          97.2,
          265.6,
          95.7,
          290.7,
          266.9,
          74.7,
          43.1,
          228,
          202.5,
          177,
          293.6,
          206.9,
          25.1,
          175.1,
          89.7,
          239.9,
          227.2,
          66.9,
          199.8,
          100.4,
          216.4,
          182.6,
          262.7,
          198.9,
          7.3,
          136.2,
          210.8,
          210.7,
          53.5,
          261.3,
          239.3,
          102.7,
          131.1,
          69,
          31.5,
          139.3,
          237.4,
          216.8,
          199.1,
          109.8,
          26.8,
          129.4,
          213.4,
          16.9,
          27.5,
          120.5,
          5.4,
          116,
          76.4,
          239.8,
          75.3,
          68.4,
          213.5,
          193.2,
          76.3,
          110.7,
          88.3,
          109.8,
          134.3,
          28.6,
          217.7,
          250.9,
          107.4,
          163.3,
          197.6,
          184.9,
          289.7,
          135.2,
          222.4,
          296.4,
          280.2,
          187.9,
          238.2,
          137.9,
          25,
          90.4,
          13.1,
          255.4,
          225.8,
          241.7,
          175.7,
          209.6,
          78.2,
          75.1,
          139.2,
          76.4,
          125.7,
          19.4,
          141.3,
          18.8,
          224,
          123.1,
          229.5,
          87.2,
          7.8,
          80.2,
          220.3,
          59.6,
          0.7,
          265.2,
          8.4,
          219.8,
          36.9,
          48.3,
          25.6,
          273.7,
          43,
          184.9,
          73.4,
          193.7,
          220.5,
          104.6,
          96.2,
          140.3,
          240.1,
          243.2,
          38,
          44.7,
          280.7,
          121,
          197.6,
          171.3,
          187.8,
          4.1,
          93.9,
          149.8,
          11.7,
          131.7,
          172.5,
          85.7,
          188.4,
          163.5,
          117.2,
          234.5,
          17.9,
          206.8,
          215.4,
          284.3,
          50,
          164.5,
          19.6,
          168.4,
          222.4,
          276.9,
          248.4,
          170.2,
          276.7,
          165.6,
          156.6,
          218.5,
          56.2,
          287.6,
          253.8,
          205,
          139.5,
          191.1,
          286,
          18.7,
          39.5,
          75.5,
          17.2,
          166.8,
          149.7,
          38.2,
          94.2,
          177,
          283.6,
          232.1
         ],
         "y": [
          22.1,
          10.4,
          9.3,
          18.5,
          12.9,
          7.2,
          11.8,
          13.2,
          4.8,
          10.6,
          8.6,
          17.4,
          9.2,
          9.7,
          19,
          22.4,
          12.5,
          24.4,
          11.3,
          14.6,
          18,
          12.5,
          5.6,
          15.5,
          9.7,
          12,
          15,
          15.9,
          18.9,
          10.5,
          21.4,
          11.9,
          9.6,
          17.4,
          9.5,
          12.8,
          25.4,
          14.7,
          10.1,
          21.5,
          16.6,
          17.1,
          20.7,
          12.9,
          8.5,
          14.9,
          10.6,
          23.2,
          14.8,
          9.7,
          11.4,
          10.7,
          22.6,
          21.2,
          20.2,
          23.7,
          5.5,
          13.2,
          23.8,
          18.4,
          8.1,
          24.2,
          15.7,
          14,
          18,
          9.3,
          9.5,
          13.4,
          18.9,
          22.3,
          18.3,
          12.4,
          8.8,
          11,
          17,
          8.7,
          6.9,
          14.2,
          5.3,
          11,
          11.8,
          12.3,
          11.3,
          13.6,
          21.7,
          15.2,
          12,
          16,
          12.9,
          16.7,
          11.2,
          7.3,
          19.4,
          22.2,
          11.5,
          16.9,
          11.7,
          15.5,
          25.4,
          17.2,
          11.7,
          23.8,
          14.8,
          14.7,
          20.7,
          19.2,
          7.2,
          8.7,
          5.3,
          19.8,
          13.4,
          21.8,
          14.1,
          15.9,
          14.6,
          12.6,
          12.2,
          9.4,
          15.9,
          6.6,
          15.5,
          7,
          11.6,
          15.2,
          19.7,
          10.6,
          6.6,
          8.8,
          24.7,
          9.7,
          1.6,
          12.7,
          5.7,
          19.6,
          10.8,
          11.6,
          9.5,
          20.8,
          9.6,
          20.7,
          10.9,
          19.2,
          20.1,
          10.4,
          11.4,
          10.3,
          13.2,
          25.4,
          10.9,
          10.1,
          16.1,
          11.6,
          16.6,
          19,
          15.6,
          3.2,
          15.3,
          10.1,
          7.3,
          12.9,
          14.4,
          13.3,
          14.9,
          18,
          11.9,
          11.9,
          8,
          12.2,
          17.1,
          15,
          8.4,
          14.5,
          7.6,
          11.7,
          11.5,
          27,
          20.2,
          11.7,
          11.8,
          12.6,
          10.5,
          12.2,
          8.7,
          26.2,
          17.6,
          22.6,
          10.3,
          17.3,
          15.9,
          6.7,
          10.8,
          9.9,
          5.9,
          19.6,
          17.3,
          7.6,
          9.7,
          12.8,
          25.5,
          13.4
         ]
        }
       ],
       "layout": {
        "template": {
         "data": {
          "bar": [
           {
            "error_x": {
             "color": "#2a3f5f"
            },
            "error_y": {
             "color": "#2a3f5f"
            },
            "marker": {
             "line": {
              "color": "#E5ECF6",
              "width": 0.5
             },
             "pattern": {
              "fillmode": "overlay",
              "size": 10,
              "solidity": 0.2
             }
            },
            "type": "bar"
           }
          ],
          "barpolar": [
           {
            "marker": {
             "line": {
              "color": "#E5ECF6",
              "width": 0.5
             },
             "pattern": {
              "fillmode": "overlay",
              "size": 10,
              "solidity": 0.2
             }
            },
            "type": "barpolar"
           }
          ],
          "carpet": [
           {
            "aaxis": {
             "endlinecolor": "#2a3f5f",
             "gridcolor": "white",
             "linecolor": "white",
             "minorgridcolor": "white",
             "startlinecolor": "#2a3f5f"
            },
            "baxis": {
             "endlinecolor": "#2a3f5f",
             "gridcolor": "white",
             "linecolor": "white",
             "minorgridcolor": "white",
             "startlinecolor": "#2a3f5f"
            },
            "type": "carpet"
           }
          ],
          "choropleth": [
           {
            "colorbar": {
             "outlinewidth": 0,
             "ticks": ""
            },
            "type": "choropleth"
           }
          ],
          "contour": [
           {
            "colorbar": {
             "outlinewidth": 0,
             "ticks": ""
            },
            "colorscale": [
             [
              0,
              "#0d0887"
             ],
             [
              0.1111111111111111,
              "#46039f"
             ],
             [
              0.2222222222222222,
              "#7201a8"
             ],
             [
              0.3333333333333333,
              "#9c179e"
             ],
             [
              0.4444444444444444,
              "#bd3786"
             ],
             [
              0.5555555555555556,
              "#d8576b"
             ],
             [
              0.6666666666666666,
              "#ed7953"
             ],
             [
              0.7777777777777778,
              "#fb9f3a"
             ],
             [
              0.8888888888888888,
              "#fdca26"
             ],
             [
              1,
              "#f0f921"
             ]
            ],
            "type": "contour"
           }
          ],
          "contourcarpet": [
           {
            "colorbar": {
             "outlinewidth": 0,
             "ticks": ""
            },
            "type": "contourcarpet"
           }
          ],
          "heatmap": [
           {
            "colorbar": {
             "outlinewidth": 0,
             "ticks": ""
            },
            "colorscale": [
             [
              0,
              "#0d0887"
             ],
             [
              0.1111111111111111,
              "#46039f"
             ],
             [
              0.2222222222222222,
              "#7201a8"
             ],
             [
              0.3333333333333333,
              "#9c179e"
             ],
             [
              0.4444444444444444,
              "#bd3786"
             ],
             [
              0.5555555555555556,
              "#d8576b"
             ],
             [
              0.6666666666666666,
              "#ed7953"
             ],
             [
              0.7777777777777778,
              "#fb9f3a"
             ],
             [
              0.8888888888888888,
              "#fdca26"
             ],
             [
              1,
              "#f0f921"
             ]
            ],
            "type": "heatmap"
           }
          ],
          "heatmapgl": [
           {
            "colorbar": {
             "outlinewidth": 0,
             "ticks": ""
            },
            "colorscale": [
             [
              0,
              "#0d0887"
             ],
             [
              0.1111111111111111,
              "#46039f"
             ],
             [
              0.2222222222222222,
              "#7201a8"
             ],
             [
              0.3333333333333333,
              "#9c179e"
             ],
             [
              0.4444444444444444,
              "#bd3786"
             ],
             [
              0.5555555555555556,
              "#d8576b"
             ],
             [
              0.6666666666666666,
              "#ed7953"
             ],
             [
              0.7777777777777778,
              "#fb9f3a"
             ],
             [
              0.8888888888888888,
              "#fdca26"
             ],
             [
              1,
              "#f0f921"
             ]
            ],
            "type": "heatmapgl"
           }
          ],
          "histogram": [
           {
            "marker": {
             "pattern": {
              "fillmode": "overlay",
              "size": 10,
              "solidity": 0.2
             }
            },
            "type": "histogram"
           }
          ],
          "histogram2d": [
           {
            "colorbar": {
             "outlinewidth": 0,
             "ticks": ""
            },
            "colorscale": [
             [
              0,
              "#0d0887"
             ],
             [
              0.1111111111111111,
              "#46039f"
             ],
             [
              0.2222222222222222,
              "#7201a8"
             ],
             [
              0.3333333333333333,
              "#9c179e"
             ],
             [
              0.4444444444444444,
              "#bd3786"
             ],
             [
              0.5555555555555556,
              "#d8576b"
             ],
             [
              0.6666666666666666,
              "#ed7953"
             ],
             [
              0.7777777777777778,
              "#fb9f3a"
             ],
             [
              0.8888888888888888,
              "#fdca26"
             ],
             [
              1,
              "#f0f921"
             ]
            ],
            "type": "histogram2d"
           }
          ],
          "histogram2dcontour": [
           {
            "colorbar": {
             "outlinewidth": 0,
             "ticks": ""
            },
            "colorscale": [
             [
              0,
              "#0d0887"
             ],
             [
              0.1111111111111111,
              "#46039f"
             ],
             [
              0.2222222222222222,
              "#7201a8"
             ],
             [
              0.3333333333333333,
              "#9c179e"
             ],
             [
              0.4444444444444444,
              "#bd3786"
             ],
             [
              0.5555555555555556,
              "#d8576b"
             ],
             [
              0.6666666666666666,
              "#ed7953"
             ],
             [
              0.7777777777777778,
              "#fb9f3a"
             ],
             [
              0.8888888888888888,
              "#fdca26"
             ],
             [
              1,
              "#f0f921"
             ]
            ],
            "type": "histogram2dcontour"
           }
          ],
          "mesh3d": [
           {
            "colorbar": {
             "outlinewidth": 0,
             "ticks": ""
            },
            "type": "mesh3d"
           }
          ],
          "parcoords": [
           {
            "line": {
             "colorbar": {
              "outlinewidth": 0,
              "ticks": ""
             }
            },
            "type": "parcoords"
           }
          ],
          "pie": [
           {
            "automargin": true,
            "type": "pie"
           }
          ],
          "scatter": [
           {
            "fillpattern": {
             "fillmode": "overlay",
             "size": 10,
             "solidity": 0.2
            },
            "type": "scatter"
           }
          ],
          "scatter3d": [
           {
            "line": {
             "colorbar": {
              "outlinewidth": 0,
              "ticks": ""
             }
            },
            "marker": {
             "colorbar": {
              "outlinewidth": 0,
              "ticks": ""
             }
            },
            "type": "scatter3d"
           }
          ],
          "scattercarpet": [
           {
            "marker": {
             "colorbar": {
              "outlinewidth": 0,
              "ticks": ""
             }
            },
            "type": "scattercarpet"
           }
          ],
          "scattergeo": [
           {
            "marker": {
             "colorbar": {
              "outlinewidth": 0,
              "ticks": ""
             }
            },
            "type": "scattergeo"
           }
          ],
          "scattergl": [
           {
            "marker": {
             "colorbar": {
              "outlinewidth": 0,
              "ticks": ""
             }
            },
            "type": "scattergl"
           }
          ],
          "scattermapbox": [
           {
            "marker": {
             "colorbar": {
              "outlinewidth": 0,
              "ticks": ""
             }
            },
            "type": "scattermapbox"
           }
          ],
          "scatterpolar": [
           {
            "marker": {
             "colorbar": {
              "outlinewidth": 0,
              "ticks": ""
             }
            },
            "type": "scatterpolar"
           }
          ],
          "scatterpolargl": [
           {
            "marker": {
             "colorbar": {
              "outlinewidth": 0,
              "ticks": ""
             }
            },
            "type": "scatterpolargl"
           }
          ],
          "scatterternary": [
           {
            "marker": {
             "colorbar": {
              "outlinewidth": 0,
              "ticks": ""
             }
            },
            "type": "scatterternary"
           }
          ],
          "surface": [
           {
            "colorbar": {
             "outlinewidth": 0,
             "ticks": ""
            },
            "colorscale": [
             [
              0,
              "#0d0887"
             ],
             [
              0.1111111111111111,
              "#46039f"
             ],
             [
              0.2222222222222222,
              "#7201a8"
             ],
             [
              0.3333333333333333,
              "#9c179e"
             ],
             [
              0.4444444444444444,
              "#bd3786"
             ],
             [
              0.5555555555555556,
              "#d8576b"
             ],
             [
              0.6666666666666666,
              "#ed7953"
             ],
             [
              0.7777777777777778,
              "#fb9f3a"
             ],
             [
              0.8888888888888888,
              "#fdca26"
             ],
             [
              1,
              "#f0f921"
             ]
            ],
            "type": "surface"
           }
          ],
          "table": [
           {
            "cells": {
             "fill": {
              "color": "#EBF0F8"
             },
             "line": {
              "color": "white"
             }
            },
            "header": {
             "fill": {
              "color": "#C8D4E3"
             },
             "line": {
              "color": "white"
             }
            },
            "type": "table"
           }
          ]
         },
         "layout": {
          "annotationdefaults": {
           "arrowcolor": "#2a3f5f",
           "arrowhead": 0,
           "arrowwidth": 1
          },
          "autotypenumbers": "strict",
          "coloraxis": {
           "colorbar": {
            "outlinewidth": 0,
            "ticks": ""
           }
          },
          "colorscale": {
           "diverging": [
            [
             0,
             "#8e0152"
            ],
            [
             0.1,
             "#c51b7d"
            ],
            [
             0.2,
             "#de77ae"
            ],
            [
             0.3,
             "#f1b6da"
            ],
            [
             0.4,
             "#fde0ef"
            ],
            [
             0.5,
             "#f7f7f7"
            ],
            [
             0.6,
             "#e6f5d0"
            ],
            [
             0.7,
             "#b8e186"
            ],
            [
             0.8,
             "#7fbc41"
            ],
            [
             0.9,
             "#4d9221"
            ],
            [
             1,
             "#276419"
            ]
           ],
           "sequential": [
            [
             0,
             "#0d0887"
            ],
            [
             0.1111111111111111,
             "#46039f"
            ],
            [
             0.2222222222222222,
             "#7201a8"
            ],
            [
             0.3333333333333333,
             "#9c179e"
            ],
            [
             0.4444444444444444,
             "#bd3786"
            ],
            [
             0.5555555555555556,
             "#d8576b"
            ],
            [
             0.6666666666666666,
             "#ed7953"
            ],
            [
             0.7777777777777778,
             "#fb9f3a"
            ],
            [
             0.8888888888888888,
             "#fdca26"
            ],
            [
             1,
             "#f0f921"
            ]
           ],
           "sequentialminus": [
            [
             0,
             "#0d0887"
            ],
            [
             0.1111111111111111,
             "#46039f"
            ],
            [
             0.2222222222222222,
             "#7201a8"
            ],
            [
             0.3333333333333333,
             "#9c179e"
            ],
            [
             0.4444444444444444,
             "#bd3786"
            ],
            [
             0.5555555555555556,
             "#d8576b"
            ],
            [
             0.6666666666666666,
             "#ed7953"
            ],
            [
             0.7777777777777778,
             "#fb9f3a"
            ],
            [
             0.8888888888888888,
             "#fdca26"
            ],
            [
             1,
             "#f0f921"
            ]
           ]
          },
          "colorway": [
           "#636efa",
           "#EF553B",
           "#00cc96",
           "#ab63fa",
           "#FFA15A",
           "#19d3f3",
           "#FF6692",
           "#B6E880",
           "#FF97FF",
           "#FECB52"
          ],
          "font": {
           "color": "#2a3f5f"
          },
          "geo": {
           "bgcolor": "white",
           "lakecolor": "white",
           "landcolor": "#E5ECF6",
           "showlakes": true,
           "showland": true,
           "subunitcolor": "white"
          },
          "hoverlabel": {
           "align": "left"
          },
          "hovermode": "closest",
          "mapbox": {
           "style": "light"
          },
          "paper_bgcolor": "white",
          "plot_bgcolor": "#E5ECF6",
          "polar": {
           "angularaxis": {
            "gridcolor": "white",
            "linecolor": "white",
            "ticks": ""
           },
           "bgcolor": "#E5ECF6",
           "radialaxis": {
            "gridcolor": "white",
            "linecolor": "white",
            "ticks": ""
           }
          },
          "scene": {
           "xaxis": {
            "backgroundcolor": "#E5ECF6",
            "gridcolor": "white",
            "gridwidth": 2,
            "linecolor": "white",
            "showbackground": true,
            "ticks": "",
            "zerolinecolor": "white"
           },
           "yaxis": {
            "backgroundcolor": "#E5ECF6",
            "gridcolor": "white",
            "gridwidth": 2,
            "linecolor": "white",
            "showbackground": true,
            "ticks": "",
            "zerolinecolor": "white"
           },
           "zaxis": {
            "backgroundcolor": "#E5ECF6",
            "gridcolor": "white",
            "gridwidth": 2,
            "linecolor": "white",
            "showbackground": true,
            "ticks": "",
            "zerolinecolor": "white"
           }
          },
          "shapedefaults": {
           "line": {
            "color": "#2a3f5f"
           }
          },
          "ternary": {
           "aaxis": {
            "gridcolor": "white",
            "linecolor": "white",
            "ticks": ""
           },
           "baxis": {
            "gridcolor": "white",
            "linecolor": "white",
            "ticks": ""
           },
           "bgcolor": "#E5ECF6",
           "caxis": {
            "gridcolor": "white",
            "linecolor": "white",
            "ticks": ""
           }
          },
          "title": {
           "x": 0.05
          },
          "xaxis": {
           "automargin": true,
           "gridcolor": "white",
           "linecolor": "white",
           "ticks": "",
           "title": {
            "standoff": 15
           },
           "zerolinecolor": "white",
           "zerolinewidth": 2
          },
          "yaxis": {
           "automargin": true,
           "gridcolor": "white",
           "linecolor": "white",
           "ticks": "",
           "title": {
            "standoff": 15
           },
           "zerolinecolor": "white",
           "zerolinewidth": 2
          }
         }
        },
        "title": {
         "text": "Scatter Plot of TV(Feature) vs Sales(Target)"
        },
        "xaxis": {
         "title": {
          "text": "TV"
         }
        },
        "yaxis": {
         "title": {
          "text": "Sales"
         }
        }
       }
      }
     },
     "metadata": {},
     "output_type": "display_data"
    }
   ],
   "source": [
    "# Create a scatter plot\n",
    "fig = go.Figure(data=go.Scatter(x=data['TV'], y=data['Sales'], mode='markers', marker=dict(color='orange', size=8)))\n",
    "\n",
    "# Customize the layout\n",
    "fig.update_layout(\n",
    "    title=\"Scatter Plot of TV(Feature) vs Sales(Target)\",\n",
    "    xaxis_title=\"TV\",\n",
    "    yaxis_title=\"Sales\"\n",
    ")\n",
    "\n",
    "# Show the plot\n",
    "fig.show()"
   ]
  },
  {
   "cell_type": "markdown",
   "id": "d9d66d99",
   "metadata": {},
   "source": [
    "##### From the above scatterplot we can infer that \n",
    "##### As the score of TV is increasing score of Sales is also increasing"
   ]
  },
  {
   "cell_type": "markdown",
   "id": "97fa803b",
   "metadata": {},
   "source": [
    "### [B]Plotly Scatterplot of Radio(feature) vs Sales(Target)"
   ]
  },
  {
   "cell_type": "code",
   "execution_count": 7,
   "id": "113ed087",
   "metadata": {},
   "outputs": [
    {
     "data": {
      "application/vnd.plotly.v1+json": {
       "config": {
        "plotlyServerURL": "https://plot.ly"
       },
       "data": [
        {
         "marker": {
          "color": "red",
          "size": 8
         },
         "mode": "markers",
         "type": "scatter",
         "x": [
          37.8,
          39.3,
          45.9,
          41.3,
          10.8,
          48.9,
          32.8,
          19.6,
          2.1,
          2.6,
          5.8,
          24,
          35.1,
          7.6,
          32.9,
          47.7,
          36.6,
          39.6,
          20.5,
          23.9,
          27.7,
          5.1,
          15.9,
          16.9,
          12.6,
          3.5,
          29.3,
          16.7,
          27.1,
          16,
          28.3,
          17.4,
          1.5,
          20,
          1.4,
          4.1,
          43.8,
          49.4,
          26.7,
          37.7,
          22.3,
          33.4,
          27.7,
          8.4,
          25.7,
          22.5,
          9.9,
          41.5,
          15.8,
          11.7,
          3.1,
          9.6,
          41.7,
          46.2,
          28.8,
          49.4,
          28.1,
          19.2,
          49.6,
          29.5,
          2,
          42.7,
          15.5,
          29.6,
          42.8,
          9.3,
          24.6,
          14.5,
          27.5,
          43.9,
          30.6,
          14.3,
          33,
          5.7,
          24.6,
          43.7,
          1.6,
          28.5,
          29.9,
          7.7,
          26.7,
          4.1,
          20.3,
          44.5,
          43,
          18.4,
          27.5,
          40.6,
          25.5,
          47.8,
          4.9,
          1.5,
          33.5,
          36.5,
          14,
          31.6,
          3.5,
          21,
          42.3,
          41.7,
          4.3,
          36.3,
          10.1,
          17.2,
          34.3,
          46.4,
          11,
          0.3,
          0.4,
          26.9,
          8.2,
          38,
          15.4,
          20.6,
          46.8,
          35,
          14.3,
          0.8,
          36.9,
          16,
          26.8,
          21.7,
          2.4,
          34.6,
          32.3,
          11.8,
          38.9,
          0,
          49,
          12,
          39.6,
          2.9,
          27.2,
          33.5,
          38.6,
          47,
          39,
          28.9,
          25.9,
          43.9,
          17,
          35.4,
          33.2,
          5.7,
          14.8,
          1.9,
          7.3,
          49,
          40.3,
          25.8,
          13.9,
          8.4,
          23.3,
          39.7,
          21.1,
          11.6,
          43.5,
          1.3,
          36.9,
          18.4,
          18.1,
          35.8,
          18.1,
          36.8,
          14.7,
          3.4,
          37.6,
          5.2,
          23.6,
          10.6,
          11.6,
          20.9,
          20.1,
          7.1,
          3.4,
          48.9,
          30.2,
          7.8,
          2.3,
          10,
          2.6,
          5.4,
          5.7,
          43,
          21.3,
          45.1,
          2.1,
          28.7,
          13.9,
          12.1,
          41.1,
          10.8,
          4.1,
          42,
          35.6,
          3.7,
          4.9,
          9.3,
          42,
          8.6
         ],
         "y": [
          22.1,
          10.4,
          9.3,
          18.5,
          12.9,
          7.2,
          11.8,
          13.2,
          4.8,
          10.6,
          8.6,
          17.4,
          9.2,
          9.7,
          19,
          22.4,
          12.5,
          24.4,
          11.3,
          14.6,
          18,
          12.5,
          5.6,
          15.5,
          9.7,
          12,
          15,
          15.9,
          18.9,
          10.5,
          21.4,
          11.9,
          9.6,
          17.4,
          9.5,
          12.8,
          25.4,
          14.7,
          10.1,
          21.5,
          16.6,
          17.1,
          20.7,
          12.9,
          8.5,
          14.9,
          10.6,
          23.2,
          14.8,
          9.7,
          11.4,
          10.7,
          22.6,
          21.2,
          20.2,
          23.7,
          5.5,
          13.2,
          23.8,
          18.4,
          8.1,
          24.2,
          15.7,
          14,
          18,
          9.3,
          9.5,
          13.4,
          18.9,
          22.3,
          18.3,
          12.4,
          8.8,
          11,
          17,
          8.7,
          6.9,
          14.2,
          5.3,
          11,
          11.8,
          12.3,
          11.3,
          13.6,
          21.7,
          15.2,
          12,
          16,
          12.9,
          16.7,
          11.2,
          7.3,
          19.4,
          22.2,
          11.5,
          16.9,
          11.7,
          15.5,
          25.4,
          17.2,
          11.7,
          23.8,
          14.8,
          14.7,
          20.7,
          19.2,
          7.2,
          8.7,
          5.3,
          19.8,
          13.4,
          21.8,
          14.1,
          15.9,
          14.6,
          12.6,
          12.2,
          9.4,
          15.9,
          6.6,
          15.5,
          7,
          11.6,
          15.2,
          19.7,
          10.6,
          6.6,
          8.8,
          24.7,
          9.7,
          1.6,
          12.7,
          5.7,
          19.6,
          10.8,
          11.6,
          9.5,
          20.8,
          9.6,
          20.7,
          10.9,
          19.2,
          20.1,
          10.4,
          11.4,
          10.3,
          13.2,
          25.4,
          10.9,
          10.1,
          16.1,
          11.6,
          16.6,
          19,
          15.6,
          3.2,
          15.3,
          10.1,
          7.3,
          12.9,
          14.4,
          13.3,
          14.9,
          18,
          11.9,
          11.9,
          8,
          12.2,
          17.1,
          15,
          8.4,
          14.5,
          7.6,
          11.7,
          11.5,
          27,
          20.2,
          11.7,
          11.8,
          12.6,
          10.5,
          12.2,
          8.7,
          26.2,
          17.6,
          22.6,
          10.3,
          17.3,
          15.9,
          6.7,
          10.8,
          9.9,
          5.9,
          19.6,
          17.3,
          7.6,
          9.7,
          12.8,
          25.5,
          13.4
         ]
        }
       ],
       "layout": {
        "template": {
         "data": {
          "bar": [
           {
            "error_x": {
             "color": "#2a3f5f"
            },
            "error_y": {
             "color": "#2a3f5f"
            },
            "marker": {
             "line": {
              "color": "#E5ECF6",
              "width": 0.5
             },
             "pattern": {
              "fillmode": "overlay",
              "size": 10,
              "solidity": 0.2
             }
            },
            "type": "bar"
           }
          ],
          "barpolar": [
           {
            "marker": {
             "line": {
              "color": "#E5ECF6",
              "width": 0.5
             },
             "pattern": {
              "fillmode": "overlay",
              "size": 10,
              "solidity": 0.2
             }
            },
            "type": "barpolar"
           }
          ],
          "carpet": [
           {
            "aaxis": {
             "endlinecolor": "#2a3f5f",
             "gridcolor": "white",
             "linecolor": "white",
             "minorgridcolor": "white",
             "startlinecolor": "#2a3f5f"
            },
            "baxis": {
             "endlinecolor": "#2a3f5f",
             "gridcolor": "white",
             "linecolor": "white",
             "minorgridcolor": "white",
             "startlinecolor": "#2a3f5f"
            },
            "type": "carpet"
           }
          ],
          "choropleth": [
           {
            "colorbar": {
             "outlinewidth": 0,
             "ticks": ""
            },
            "type": "choropleth"
           }
          ],
          "contour": [
           {
            "colorbar": {
             "outlinewidth": 0,
             "ticks": ""
            },
            "colorscale": [
             [
              0,
              "#0d0887"
             ],
             [
              0.1111111111111111,
              "#46039f"
             ],
             [
              0.2222222222222222,
              "#7201a8"
             ],
             [
              0.3333333333333333,
              "#9c179e"
             ],
             [
              0.4444444444444444,
              "#bd3786"
             ],
             [
              0.5555555555555556,
              "#d8576b"
             ],
             [
              0.6666666666666666,
              "#ed7953"
             ],
             [
              0.7777777777777778,
              "#fb9f3a"
             ],
             [
              0.8888888888888888,
              "#fdca26"
             ],
             [
              1,
              "#f0f921"
             ]
            ],
            "type": "contour"
           }
          ],
          "contourcarpet": [
           {
            "colorbar": {
             "outlinewidth": 0,
             "ticks": ""
            },
            "type": "contourcarpet"
           }
          ],
          "heatmap": [
           {
            "colorbar": {
             "outlinewidth": 0,
             "ticks": ""
            },
            "colorscale": [
             [
              0,
              "#0d0887"
             ],
             [
              0.1111111111111111,
              "#46039f"
             ],
             [
              0.2222222222222222,
              "#7201a8"
             ],
             [
              0.3333333333333333,
              "#9c179e"
             ],
             [
              0.4444444444444444,
              "#bd3786"
             ],
             [
              0.5555555555555556,
              "#d8576b"
             ],
             [
              0.6666666666666666,
              "#ed7953"
             ],
             [
              0.7777777777777778,
              "#fb9f3a"
             ],
             [
              0.8888888888888888,
              "#fdca26"
             ],
             [
              1,
              "#f0f921"
             ]
            ],
            "type": "heatmap"
           }
          ],
          "heatmapgl": [
           {
            "colorbar": {
             "outlinewidth": 0,
             "ticks": ""
            },
            "colorscale": [
             [
              0,
              "#0d0887"
             ],
             [
              0.1111111111111111,
              "#46039f"
             ],
             [
              0.2222222222222222,
              "#7201a8"
             ],
             [
              0.3333333333333333,
              "#9c179e"
             ],
             [
              0.4444444444444444,
              "#bd3786"
             ],
             [
              0.5555555555555556,
              "#d8576b"
             ],
             [
              0.6666666666666666,
              "#ed7953"
             ],
             [
              0.7777777777777778,
              "#fb9f3a"
             ],
             [
              0.8888888888888888,
              "#fdca26"
             ],
             [
              1,
              "#f0f921"
             ]
            ],
            "type": "heatmapgl"
           }
          ],
          "histogram": [
           {
            "marker": {
             "pattern": {
              "fillmode": "overlay",
              "size": 10,
              "solidity": 0.2
             }
            },
            "type": "histogram"
           }
          ],
          "histogram2d": [
           {
            "colorbar": {
             "outlinewidth": 0,
             "ticks": ""
            },
            "colorscale": [
             [
              0,
              "#0d0887"
             ],
             [
              0.1111111111111111,
              "#46039f"
             ],
             [
              0.2222222222222222,
              "#7201a8"
             ],
             [
              0.3333333333333333,
              "#9c179e"
             ],
             [
              0.4444444444444444,
              "#bd3786"
             ],
             [
              0.5555555555555556,
              "#d8576b"
             ],
             [
              0.6666666666666666,
              "#ed7953"
             ],
             [
              0.7777777777777778,
              "#fb9f3a"
             ],
             [
              0.8888888888888888,
              "#fdca26"
             ],
             [
              1,
              "#f0f921"
             ]
            ],
            "type": "histogram2d"
           }
          ],
          "histogram2dcontour": [
           {
            "colorbar": {
             "outlinewidth": 0,
             "ticks": ""
            },
            "colorscale": [
             [
              0,
              "#0d0887"
             ],
             [
              0.1111111111111111,
              "#46039f"
             ],
             [
              0.2222222222222222,
              "#7201a8"
             ],
             [
              0.3333333333333333,
              "#9c179e"
             ],
             [
              0.4444444444444444,
              "#bd3786"
             ],
             [
              0.5555555555555556,
              "#d8576b"
             ],
             [
              0.6666666666666666,
              "#ed7953"
             ],
             [
              0.7777777777777778,
              "#fb9f3a"
             ],
             [
              0.8888888888888888,
              "#fdca26"
             ],
             [
              1,
              "#f0f921"
             ]
            ],
            "type": "histogram2dcontour"
           }
          ],
          "mesh3d": [
           {
            "colorbar": {
             "outlinewidth": 0,
             "ticks": ""
            },
            "type": "mesh3d"
           }
          ],
          "parcoords": [
           {
            "line": {
             "colorbar": {
              "outlinewidth": 0,
              "ticks": ""
             }
            },
            "type": "parcoords"
           }
          ],
          "pie": [
           {
            "automargin": true,
            "type": "pie"
           }
          ],
          "scatter": [
           {
            "fillpattern": {
             "fillmode": "overlay",
             "size": 10,
             "solidity": 0.2
            },
            "type": "scatter"
           }
          ],
          "scatter3d": [
           {
            "line": {
             "colorbar": {
              "outlinewidth": 0,
              "ticks": ""
             }
            },
            "marker": {
             "colorbar": {
              "outlinewidth": 0,
              "ticks": ""
             }
            },
            "type": "scatter3d"
           }
          ],
          "scattercarpet": [
           {
            "marker": {
             "colorbar": {
              "outlinewidth": 0,
              "ticks": ""
             }
            },
            "type": "scattercarpet"
           }
          ],
          "scattergeo": [
           {
            "marker": {
             "colorbar": {
              "outlinewidth": 0,
              "ticks": ""
             }
            },
            "type": "scattergeo"
           }
          ],
          "scattergl": [
           {
            "marker": {
             "colorbar": {
              "outlinewidth": 0,
              "ticks": ""
             }
            },
            "type": "scattergl"
           }
          ],
          "scattermapbox": [
           {
            "marker": {
             "colorbar": {
              "outlinewidth": 0,
              "ticks": ""
             }
            },
            "type": "scattermapbox"
           }
          ],
          "scatterpolar": [
           {
            "marker": {
             "colorbar": {
              "outlinewidth": 0,
              "ticks": ""
             }
            },
            "type": "scatterpolar"
           }
          ],
          "scatterpolargl": [
           {
            "marker": {
             "colorbar": {
              "outlinewidth": 0,
              "ticks": ""
             }
            },
            "type": "scatterpolargl"
           }
          ],
          "scatterternary": [
           {
            "marker": {
             "colorbar": {
              "outlinewidth": 0,
              "ticks": ""
             }
            },
            "type": "scatterternary"
           }
          ],
          "surface": [
           {
            "colorbar": {
             "outlinewidth": 0,
             "ticks": ""
            },
            "colorscale": [
             [
              0,
              "#0d0887"
             ],
             [
              0.1111111111111111,
              "#46039f"
             ],
             [
              0.2222222222222222,
              "#7201a8"
             ],
             [
              0.3333333333333333,
              "#9c179e"
             ],
             [
              0.4444444444444444,
              "#bd3786"
             ],
             [
              0.5555555555555556,
              "#d8576b"
             ],
             [
              0.6666666666666666,
              "#ed7953"
             ],
             [
              0.7777777777777778,
              "#fb9f3a"
             ],
             [
              0.8888888888888888,
              "#fdca26"
             ],
             [
              1,
              "#f0f921"
             ]
            ],
            "type": "surface"
           }
          ],
          "table": [
           {
            "cells": {
             "fill": {
              "color": "#EBF0F8"
             },
             "line": {
              "color": "white"
             }
            },
            "header": {
             "fill": {
              "color": "#C8D4E3"
             },
             "line": {
              "color": "white"
             }
            },
            "type": "table"
           }
          ]
         },
         "layout": {
          "annotationdefaults": {
           "arrowcolor": "#2a3f5f",
           "arrowhead": 0,
           "arrowwidth": 1
          },
          "autotypenumbers": "strict",
          "coloraxis": {
           "colorbar": {
            "outlinewidth": 0,
            "ticks": ""
           }
          },
          "colorscale": {
           "diverging": [
            [
             0,
             "#8e0152"
            ],
            [
             0.1,
             "#c51b7d"
            ],
            [
             0.2,
             "#de77ae"
            ],
            [
             0.3,
             "#f1b6da"
            ],
            [
             0.4,
             "#fde0ef"
            ],
            [
             0.5,
             "#f7f7f7"
            ],
            [
             0.6,
             "#e6f5d0"
            ],
            [
             0.7,
             "#b8e186"
            ],
            [
             0.8,
             "#7fbc41"
            ],
            [
             0.9,
             "#4d9221"
            ],
            [
             1,
             "#276419"
            ]
           ],
           "sequential": [
            [
             0,
             "#0d0887"
            ],
            [
             0.1111111111111111,
             "#46039f"
            ],
            [
             0.2222222222222222,
             "#7201a8"
            ],
            [
             0.3333333333333333,
             "#9c179e"
            ],
            [
             0.4444444444444444,
             "#bd3786"
            ],
            [
             0.5555555555555556,
             "#d8576b"
            ],
            [
             0.6666666666666666,
             "#ed7953"
            ],
            [
             0.7777777777777778,
             "#fb9f3a"
            ],
            [
             0.8888888888888888,
             "#fdca26"
            ],
            [
             1,
             "#f0f921"
            ]
           ],
           "sequentialminus": [
            [
             0,
             "#0d0887"
            ],
            [
             0.1111111111111111,
             "#46039f"
            ],
            [
             0.2222222222222222,
             "#7201a8"
            ],
            [
             0.3333333333333333,
             "#9c179e"
            ],
            [
             0.4444444444444444,
             "#bd3786"
            ],
            [
             0.5555555555555556,
             "#d8576b"
            ],
            [
             0.6666666666666666,
             "#ed7953"
            ],
            [
             0.7777777777777778,
             "#fb9f3a"
            ],
            [
             0.8888888888888888,
             "#fdca26"
            ],
            [
             1,
             "#f0f921"
            ]
           ]
          },
          "colorway": [
           "#636efa",
           "#EF553B",
           "#00cc96",
           "#ab63fa",
           "#FFA15A",
           "#19d3f3",
           "#FF6692",
           "#B6E880",
           "#FF97FF",
           "#FECB52"
          ],
          "font": {
           "color": "#2a3f5f"
          },
          "geo": {
           "bgcolor": "white",
           "lakecolor": "white",
           "landcolor": "#E5ECF6",
           "showlakes": true,
           "showland": true,
           "subunitcolor": "white"
          },
          "hoverlabel": {
           "align": "left"
          },
          "hovermode": "closest",
          "mapbox": {
           "style": "light"
          },
          "paper_bgcolor": "white",
          "plot_bgcolor": "#E5ECF6",
          "polar": {
           "angularaxis": {
            "gridcolor": "white",
            "linecolor": "white",
            "ticks": ""
           },
           "bgcolor": "#E5ECF6",
           "radialaxis": {
            "gridcolor": "white",
            "linecolor": "white",
            "ticks": ""
           }
          },
          "scene": {
           "xaxis": {
            "backgroundcolor": "#E5ECF6",
            "gridcolor": "white",
            "gridwidth": 2,
            "linecolor": "white",
            "showbackground": true,
            "ticks": "",
            "zerolinecolor": "white"
           },
           "yaxis": {
            "backgroundcolor": "#E5ECF6",
            "gridcolor": "white",
            "gridwidth": 2,
            "linecolor": "white",
            "showbackground": true,
            "ticks": "",
            "zerolinecolor": "white"
           },
           "zaxis": {
            "backgroundcolor": "#E5ECF6",
            "gridcolor": "white",
            "gridwidth": 2,
            "linecolor": "white",
            "showbackground": true,
            "ticks": "",
            "zerolinecolor": "white"
           }
          },
          "shapedefaults": {
           "line": {
            "color": "#2a3f5f"
           }
          },
          "ternary": {
           "aaxis": {
            "gridcolor": "white",
            "linecolor": "white",
            "ticks": ""
           },
           "baxis": {
            "gridcolor": "white",
            "linecolor": "white",
            "ticks": ""
           },
           "bgcolor": "#E5ECF6",
           "caxis": {
            "gridcolor": "white",
            "linecolor": "white",
            "ticks": ""
           }
          },
          "title": {
           "x": 0.05
          },
          "xaxis": {
           "automargin": true,
           "gridcolor": "white",
           "linecolor": "white",
           "ticks": "",
           "title": {
            "standoff": 15
           },
           "zerolinecolor": "white",
           "zerolinewidth": 2
          },
          "yaxis": {
           "automargin": true,
           "gridcolor": "white",
           "linecolor": "white",
           "ticks": "",
           "title": {
            "standoff": 15
           },
           "zerolinecolor": "white",
           "zerolinewidth": 2
          }
         }
        },
        "title": {
         "text": "Scatter Plot of Radio(Feature) vs Sales(Target)"
        },
        "xaxis": {
         "title": {
          "text": "Radio"
         }
        },
        "yaxis": {
         "title": {
          "text": "Sales"
         }
        }
       }
      }
     },
     "metadata": {},
     "output_type": "display_data"
    }
   ],
   "source": [
    "# Create a scatter plot\n",
    "fig = go.Figure(data=go.Scatter(x=data['Radio'], y=data['Sales'], mode='markers', marker=dict(color='red', size=8)))\n",
    "\n",
    "# Customize the layout\n",
    "fig.update_layout(\n",
    "    title=\"Scatter Plot of Radio(Feature) vs Sales(Target)\",\n",
    "    xaxis_title=\"Radio\",\n",
    "    yaxis_title=\"Sales\"\n",
    ")\n",
    "\n",
    "# Show the plot\n",
    "fig.show()"
   ]
  },
  {
   "cell_type": "markdown",
   "id": "42bbcf8c",
   "metadata": {},
   "source": [
    "##### From the above scatterplot we can infer that \n",
    "##### As the score of Radio is increasing score of Sales is also increasing"
   ]
  },
  {
   "cell_type": "markdown",
   "id": "b2537cef",
   "metadata": {},
   "source": [
    "### [C]Plotly Scatterplot of Newspaper(feature) vs Sales(Target)"
   ]
  },
  {
   "cell_type": "code",
   "execution_count": 8,
   "id": "ec34e569",
   "metadata": {},
   "outputs": [
    {
     "data": {
      "application/vnd.plotly.v1+json": {
       "config": {
        "plotlyServerURL": "https://plot.ly"
       },
       "data": [
        {
         "marker": {
          "color": "blue",
          "size": 8
         },
         "mode": "markers",
         "type": "scatter",
         "x": [
          69.2,
          45.1,
          69.3,
          58.5,
          58.4,
          75,
          23.5,
          11.6,
          1,
          21.2,
          24.2,
          4,
          65.9,
          7.2,
          46,
          52.9,
          114,
          55.8,
          18.3,
          19.1,
          53.4,
          23.5,
          49.6,
          26.2,
          18.3,
          19.5,
          12.6,
          22.9,
          22.9,
          40.8,
          43.2,
          38.6,
          30,
          0.3,
          7.4,
          8.5,
          5,
          45.7,
          35.1,
          32,
          31.6,
          38.7,
          1.8,
          26.4,
          43.3,
          31.5,
          35.7,
          18.5,
          49.9,
          36.8,
          34.6,
          3.6,
          39.6,
          58.7,
          15.9,
          60,
          41.4,
          16.6,
          37.7,
          9.3,
          21.4,
          54.7,
          27.3,
          8.4,
          28.9,
          0.9,
          2.2,
          10.2,
          11,
          27.2,
          38.7,
          31.7,
          19.3,
          31.3,
          13.1,
          89.4,
          20.7,
          14.2,
          9.4,
          23.1,
          22.3,
          36.9,
          32.5,
          35.6,
          33.8,
          65.7,
          16,
          63.2,
          73.4,
          51.4,
          9.3,
          33,
          59,
          72.3,
          10.9,
          52.9,
          5.9,
          22,
          51.2,
          45.9,
          49.8,
          100.9,
          21.4,
          17.9,
          5.3,
          59,
          29.7,
          23.2,
          25.6,
          5.5,
          56.5,
          23.2,
          2.4,
          10.7,
          34.5,
          52.7,
          25.6,
          14.8,
          79.2,
          22.3,
          46.2,
          50.4,
          15.6,
          12.4,
          74.2,
          25.9,
          50.6,
          9.2,
          3.2,
          43.1,
          8.7,
          43,
          2.1,
          45.1,
          65.6,
          8.5,
          9.3,
          59.7,
          20.5,
          1.7,
          12.9,
          75.6,
          37.9,
          34.4,
          38.9,
          9,
          8.7,
          44.3,
          11.9,
          20.6,
          37,
          48.7,
          14.2,
          37.7,
          9.5,
          5.7,
          50.5,
          24.3,
          45.2,
          34.6,
          30.7,
          49.3,
          25.6,
          7.4,
          5.4,
          84.8,
          21.6,
          19.4,
          57.6,
          6.4,
          18.4,
          47.4,
          17,
          12.8,
          13.1,
          41.8,
          20.3,
          35.2,
          23.7,
          17.6,
          8.3,
          27.4,
          29.7,
          71.8,
          30,
          19.6,
          26.6,
          18.2,
          3.7,
          23.4,
          5.8,
          6,
          31.6,
          3.6,
          6,
          13.8,
          8.1,
          6.4,
          66.2,
          8.7
         ],
         "y": [
          22.1,
          10.4,
          9.3,
          18.5,
          12.9,
          7.2,
          11.8,
          13.2,
          4.8,
          10.6,
          8.6,
          17.4,
          9.2,
          9.7,
          19,
          22.4,
          12.5,
          24.4,
          11.3,
          14.6,
          18,
          12.5,
          5.6,
          15.5,
          9.7,
          12,
          15,
          15.9,
          18.9,
          10.5,
          21.4,
          11.9,
          9.6,
          17.4,
          9.5,
          12.8,
          25.4,
          14.7,
          10.1,
          21.5,
          16.6,
          17.1,
          20.7,
          12.9,
          8.5,
          14.9,
          10.6,
          23.2,
          14.8,
          9.7,
          11.4,
          10.7,
          22.6,
          21.2,
          20.2,
          23.7,
          5.5,
          13.2,
          23.8,
          18.4,
          8.1,
          24.2,
          15.7,
          14,
          18,
          9.3,
          9.5,
          13.4,
          18.9,
          22.3,
          18.3,
          12.4,
          8.8,
          11,
          17,
          8.7,
          6.9,
          14.2,
          5.3,
          11,
          11.8,
          12.3,
          11.3,
          13.6,
          21.7,
          15.2,
          12,
          16,
          12.9,
          16.7,
          11.2,
          7.3,
          19.4,
          22.2,
          11.5,
          16.9,
          11.7,
          15.5,
          25.4,
          17.2,
          11.7,
          23.8,
          14.8,
          14.7,
          20.7,
          19.2,
          7.2,
          8.7,
          5.3,
          19.8,
          13.4,
          21.8,
          14.1,
          15.9,
          14.6,
          12.6,
          12.2,
          9.4,
          15.9,
          6.6,
          15.5,
          7,
          11.6,
          15.2,
          19.7,
          10.6,
          6.6,
          8.8,
          24.7,
          9.7,
          1.6,
          12.7,
          5.7,
          19.6,
          10.8,
          11.6,
          9.5,
          20.8,
          9.6,
          20.7,
          10.9,
          19.2,
          20.1,
          10.4,
          11.4,
          10.3,
          13.2,
          25.4,
          10.9,
          10.1,
          16.1,
          11.6,
          16.6,
          19,
          15.6,
          3.2,
          15.3,
          10.1,
          7.3,
          12.9,
          14.4,
          13.3,
          14.9,
          18,
          11.9,
          11.9,
          8,
          12.2,
          17.1,
          15,
          8.4,
          14.5,
          7.6,
          11.7,
          11.5,
          27,
          20.2,
          11.7,
          11.8,
          12.6,
          10.5,
          12.2,
          8.7,
          26.2,
          17.6,
          22.6,
          10.3,
          17.3,
          15.9,
          6.7,
          10.8,
          9.9,
          5.9,
          19.6,
          17.3,
          7.6,
          9.7,
          12.8,
          25.5,
          13.4
         ]
        }
       ],
       "layout": {
        "template": {
         "data": {
          "bar": [
           {
            "error_x": {
             "color": "#2a3f5f"
            },
            "error_y": {
             "color": "#2a3f5f"
            },
            "marker": {
             "line": {
              "color": "#E5ECF6",
              "width": 0.5
             },
             "pattern": {
              "fillmode": "overlay",
              "size": 10,
              "solidity": 0.2
             }
            },
            "type": "bar"
           }
          ],
          "barpolar": [
           {
            "marker": {
             "line": {
              "color": "#E5ECF6",
              "width": 0.5
             },
             "pattern": {
              "fillmode": "overlay",
              "size": 10,
              "solidity": 0.2
             }
            },
            "type": "barpolar"
           }
          ],
          "carpet": [
           {
            "aaxis": {
             "endlinecolor": "#2a3f5f",
             "gridcolor": "white",
             "linecolor": "white",
             "minorgridcolor": "white",
             "startlinecolor": "#2a3f5f"
            },
            "baxis": {
             "endlinecolor": "#2a3f5f",
             "gridcolor": "white",
             "linecolor": "white",
             "minorgridcolor": "white",
             "startlinecolor": "#2a3f5f"
            },
            "type": "carpet"
           }
          ],
          "choropleth": [
           {
            "colorbar": {
             "outlinewidth": 0,
             "ticks": ""
            },
            "type": "choropleth"
           }
          ],
          "contour": [
           {
            "colorbar": {
             "outlinewidth": 0,
             "ticks": ""
            },
            "colorscale": [
             [
              0,
              "#0d0887"
             ],
             [
              0.1111111111111111,
              "#46039f"
             ],
             [
              0.2222222222222222,
              "#7201a8"
             ],
             [
              0.3333333333333333,
              "#9c179e"
             ],
             [
              0.4444444444444444,
              "#bd3786"
             ],
             [
              0.5555555555555556,
              "#d8576b"
             ],
             [
              0.6666666666666666,
              "#ed7953"
             ],
             [
              0.7777777777777778,
              "#fb9f3a"
             ],
             [
              0.8888888888888888,
              "#fdca26"
             ],
             [
              1,
              "#f0f921"
             ]
            ],
            "type": "contour"
           }
          ],
          "contourcarpet": [
           {
            "colorbar": {
             "outlinewidth": 0,
             "ticks": ""
            },
            "type": "contourcarpet"
           }
          ],
          "heatmap": [
           {
            "colorbar": {
             "outlinewidth": 0,
             "ticks": ""
            },
            "colorscale": [
             [
              0,
              "#0d0887"
             ],
             [
              0.1111111111111111,
              "#46039f"
             ],
             [
              0.2222222222222222,
              "#7201a8"
             ],
             [
              0.3333333333333333,
              "#9c179e"
             ],
             [
              0.4444444444444444,
              "#bd3786"
             ],
             [
              0.5555555555555556,
              "#d8576b"
             ],
             [
              0.6666666666666666,
              "#ed7953"
             ],
             [
              0.7777777777777778,
              "#fb9f3a"
             ],
             [
              0.8888888888888888,
              "#fdca26"
             ],
             [
              1,
              "#f0f921"
             ]
            ],
            "type": "heatmap"
           }
          ],
          "heatmapgl": [
           {
            "colorbar": {
             "outlinewidth": 0,
             "ticks": ""
            },
            "colorscale": [
             [
              0,
              "#0d0887"
             ],
             [
              0.1111111111111111,
              "#46039f"
             ],
             [
              0.2222222222222222,
              "#7201a8"
             ],
             [
              0.3333333333333333,
              "#9c179e"
             ],
             [
              0.4444444444444444,
              "#bd3786"
             ],
             [
              0.5555555555555556,
              "#d8576b"
             ],
             [
              0.6666666666666666,
              "#ed7953"
             ],
             [
              0.7777777777777778,
              "#fb9f3a"
             ],
             [
              0.8888888888888888,
              "#fdca26"
             ],
             [
              1,
              "#f0f921"
             ]
            ],
            "type": "heatmapgl"
           }
          ],
          "histogram": [
           {
            "marker": {
             "pattern": {
              "fillmode": "overlay",
              "size": 10,
              "solidity": 0.2
             }
            },
            "type": "histogram"
           }
          ],
          "histogram2d": [
           {
            "colorbar": {
             "outlinewidth": 0,
             "ticks": ""
            },
            "colorscale": [
             [
              0,
              "#0d0887"
             ],
             [
              0.1111111111111111,
              "#46039f"
             ],
             [
              0.2222222222222222,
              "#7201a8"
             ],
             [
              0.3333333333333333,
              "#9c179e"
             ],
             [
              0.4444444444444444,
              "#bd3786"
             ],
             [
              0.5555555555555556,
              "#d8576b"
             ],
             [
              0.6666666666666666,
              "#ed7953"
             ],
             [
              0.7777777777777778,
              "#fb9f3a"
             ],
             [
              0.8888888888888888,
              "#fdca26"
             ],
             [
              1,
              "#f0f921"
             ]
            ],
            "type": "histogram2d"
           }
          ],
          "histogram2dcontour": [
           {
            "colorbar": {
             "outlinewidth": 0,
             "ticks": ""
            },
            "colorscale": [
             [
              0,
              "#0d0887"
             ],
             [
              0.1111111111111111,
              "#46039f"
             ],
             [
              0.2222222222222222,
              "#7201a8"
             ],
             [
              0.3333333333333333,
              "#9c179e"
             ],
             [
              0.4444444444444444,
              "#bd3786"
             ],
             [
              0.5555555555555556,
              "#d8576b"
             ],
             [
              0.6666666666666666,
              "#ed7953"
             ],
             [
              0.7777777777777778,
              "#fb9f3a"
             ],
             [
              0.8888888888888888,
              "#fdca26"
             ],
             [
              1,
              "#f0f921"
             ]
            ],
            "type": "histogram2dcontour"
           }
          ],
          "mesh3d": [
           {
            "colorbar": {
             "outlinewidth": 0,
             "ticks": ""
            },
            "type": "mesh3d"
           }
          ],
          "parcoords": [
           {
            "line": {
             "colorbar": {
              "outlinewidth": 0,
              "ticks": ""
             }
            },
            "type": "parcoords"
           }
          ],
          "pie": [
           {
            "automargin": true,
            "type": "pie"
           }
          ],
          "scatter": [
           {
            "fillpattern": {
             "fillmode": "overlay",
             "size": 10,
             "solidity": 0.2
            },
            "type": "scatter"
           }
          ],
          "scatter3d": [
           {
            "line": {
             "colorbar": {
              "outlinewidth": 0,
              "ticks": ""
             }
            },
            "marker": {
             "colorbar": {
              "outlinewidth": 0,
              "ticks": ""
             }
            },
            "type": "scatter3d"
           }
          ],
          "scattercarpet": [
           {
            "marker": {
             "colorbar": {
              "outlinewidth": 0,
              "ticks": ""
             }
            },
            "type": "scattercarpet"
           }
          ],
          "scattergeo": [
           {
            "marker": {
             "colorbar": {
              "outlinewidth": 0,
              "ticks": ""
             }
            },
            "type": "scattergeo"
           }
          ],
          "scattergl": [
           {
            "marker": {
             "colorbar": {
              "outlinewidth": 0,
              "ticks": ""
             }
            },
            "type": "scattergl"
           }
          ],
          "scattermapbox": [
           {
            "marker": {
             "colorbar": {
              "outlinewidth": 0,
              "ticks": ""
             }
            },
            "type": "scattermapbox"
           }
          ],
          "scatterpolar": [
           {
            "marker": {
             "colorbar": {
              "outlinewidth": 0,
              "ticks": ""
             }
            },
            "type": "scatterpolar"
           }
          ],
          "scatterpolargl": [
           {
            "marker": {
             "colorbar": {
              "outlinewidth": 0,
              "ticks": ""
             }
            },
            "type": "scatterpolargl"
           }
          ],
          "scatterternary": [
           {
            "marker": {
             "colorbar": {
              "outlinewidth": 0,
              "ticks": ""
             }
            },
            "type": "scatterternary"
           }
          ],
          "surface": [
           {
            "colorbar": {
             "outlinewidth": 0,
             "ticks": ""
            },
            "colorscale": [
             [
              0,
              "#0d0887"
             ],
             [
              0.1111111111111111,
              "#46039f"
             ],
             [
              0.2222222222222222,
              "#7201a8"
             ],
             [
              0.3333333333333333,
              "#9c179e"
             ],
             [
              0.4444444444444444,
              "#bd3786"
             ],
             [
              0.5555555555555556,
              "#d8576b"
             ],
             [
              0.6666666666666666,
              "#ed7953"
             ],
             [
              0.7777777777777778,
              "#fb9f3a"
             ],
             [
              0.8888888888888888,
              "#fdca26"
             ],
             [
              1,
              "#f0f921"
             ]
            ],
            "type": "surface"
           }
          ],
          "table": [
           {
            "cells": {
             "fill": {
              "color": "#EBF0F8"
             },
             "line": {
              "color": "white"
             }
            },
            "header": {
             "fill": {
              "color": "#C8D4E3"
             },
             "line": {
              "color": "white"
             }
            },
            "type": "table"
           }
          ]
         },
         "layout": {
          "annotationdefaults": {
           "arrowcolor": "#2a3f5f",
           "arrowhead": 0,
           "arrowwidth": 1
          },
          "autotypenumbers": "strict",
          "coloraxis": {
           "colorbar": {
            "outlinewidth": 0,
            "ticks": ""
           }
          },
          "colorscale": {
           "diverging": [
            [
             0,
             "#8e0152"
            ],
            [
             0.1,
             "#c51b7d"
            ],
            [
             0.2,
             "#de77ae"
            ],
            [
             0.3,
             "#f1b6da"
            ],
            [
             0.4,
             "#fde0ef"
            ],
            [
             0.5,
             "#f7f7f7"
            ],
            [
             0.6,
             "#e6f5d0"
            ],
            [
             0.7,
             "#b8e186"
            ],
            [
             0.8,
             "#7fbc41"
            ],
            [
             0.9,
             "#4d9221"
            ],
            [
             1,
             "#276419"
            ]
           ],
           "sequential": [
            [
             0,
             "#0d0887"
            ],
            [
             0.1111111111111111,
             "#46039f"
            ],
            [
             0.2222222222222222,
             "#7201a8"
            ],
            [
             0.3333333333333333,
             "#9c179e"
            ],
            [
             0.4444444444444444,
             "#bd3786"
            ],
            [
             0.5555555555555556,
             "#d8576b"
            ],
            [
             0.6666666666666666,
             "#ed7953"
            ],
            [
             0.7777777777777778,
             "#fb9f3a"
            ],
            [
             0.8888888888888888,
             "#fdca26"
            ],
            [
             1,
             "#f0f921"
            ]
           ],
           "sequentialminus": [
            [
             0,
             "#0d0887"
            ],
            [
             0.1111111111111111,
             "#46039f"
            ],
            [
             0.2222222222222222,
             "#7201a8"
            ],
            [
             0.3333333333333333,
             "#9c179e"
            ],
            [
             0.4444444444444444,
             "#bd3786"
            ],
            [
             0.5555555555555556,
             "#d8576b"
            ],
            [
             0.6666666666666666,
             "#ed7953"
            ],
            [
             0.7777777777777778,
             "#fb9f3a"
            ],
            [
             0.8888888888888888,
             "#fdca26"
            ],
            [
             1,
             "#f0f921"
            ]
           ]
          },
          "colorway": [
           "#636efa",
           "#EF553B",
           "#00cc96",
           "#ab63fa",
           "#FFA15A",
           "#19d3f3",
           "#FF6692",
           "#B6E880",
           "#FF97FF",
           "#FECB52"
          ],
          "font": {
           "color": "#2a3f5f"
          },
          "geo": {
           "bgcolor": "white",
           "lakecolor": "white",
           "landcolor": "#E5ECF6",
           "showlakes": true,
           "showland": true,
           "subunitcolor": "white"
          },
          "hoverlabel": {
           "align": "left"
          },
          "hovermode": "closest",
          "mapbox": {
           "style": "light"
          },
          "paper_bgcolor": "white",
          "plot_bgcolor": "#E5ECF6",
          "polar": {
           "angularaxis": {
            "gridcolor": "white",
            "linecolor": "white",
            "ticks": ""
           },
           "bgcolor": "#E5ECF6",
           "radialaxis": {
            "gridcolor": "white",
            "linecolor": "white",
            "ticks": ""
           }
          },
          "scene": {
           "xaxis": {
            "backgroundcolor": "#E5ECF6",
            "gridcolor": "white",
            "gridwidth": 2,
            "linecolor": "white",
            "showbackground": true,
            "ticks": "",
            "zerolinecolor": "white"
           },
           "yaxis": {
            "backgroundcolor": "#E5ECF6",
            "gridcolor": "white",
            "gridwidth": 2,
            "linecolor": "white",
            "showbackground": true,
            "ticks": "",
            "zerolinecolor": "white"
           },
           "zaxis": {
            "backgroundcolor": "#E5ECF6",
            "gridcolor": "white",
            "gridwidth": 2,
            "linecolor": "white",
            "showbackground": true,
            "ticks": "",
            "zerolinecolor": "white"
           }
          },
          "shapedefaults": {
           "line": {
            "color": "#2a3f5f"
           }
          },
          "ternary": {
           "aaxis": {
            "gridcolor": "white",
            "linecolor": "white",
            "ticks": ""
           },
           "baxis": {
            "gridcolor": "white",
            "linecolor": "white",
            "ticks": ""
           },
           "bgcolor": "#E5ECF6",
           "caxis": {
            "gridcolor": "white",
            "linecolor": "white",
            "ticks": ""
           }
          },
          "title": {
           "x": 0.05
          },
          "xaxis": {
           "automargin": true,
           "gridcolor": "white",
           "linecolor": "white",
           "ticks": "",
           "title": {
            "standoff": 15
           },
           "zerolinecolor": "white",
           "zerolinewidth": 2
          },
          "yaxis": {
           "automargin": true,
           "gridcolor": "white",
           "linecolor": "white",
           "ticks": "",
           "title": {
            "standoff": 15
           },
           "zerolinecolor": "white",
           "zerolinewidth": 2
          }
         }
        },
        "title": {
         "text": "Scatter Plot of Newspaper(Feature) vs Sales(Target)"
        },
        "xaxis": {
         "title": {
          "text": "Newspaper"
         }
        },
        "yaxis": {
         "title": {
          "text": "Sales"
         }
        }
       }
      }
     },
     "metadata": {},
     "output_type": "display_data"
    }
   ],
   "source": [
    "# Create a scatter plot\n",
    "fig = go.Figure(data=go.Scatter(x=data['Newspaper'], y=data['Sales'], mode='markers', marker=dict(color='blue', size=8)))\n",
    "\n",
    "# Customize the layout\n",
    "fig.update_layout(\n",
    "    title=\"Scatter Plot of Newspaper(Feature) vs Sales(Target)\",\n",
    "    xaxis_title=\"Newspaper\",\n",
    "    yaxis_title=\"Sales\"\n",
    ")\n",
    "\n",
    "# Show the plot\n",
    "fig.show()"
   ]
  },
  {
   "cell_type": "markdown",
   "id": "3c1c732e",
   "metadata": {},
   "source": [
    "#### [i] Distribution of TV feature"
   ]
  },
  {
   "cell_type": "code",
   "execution_count": 9,
   "id": "c1c5602f",
   "metadata": {},
   "outputs": [
    {
     "data": {
      "image/png": "[encoded data removed]",
      "text/plain": [
       "<Figure size 1000x600 with 1 Axes>"
      ]
     },
     "metadata": {},
     "output_type": "display_data"
    }
   ],
   "source": [
    "plt.figure(figsize=(10, 6))\n",
    "ax = sns.histplot(data['TV'], bins=20, kde=True, color='orange')\n",
    "plt.xlabel('TV')\n",
    "plt.ylabel('Frequency')\n",
    "plt.title('Distribution of TV feature')\n",
    "for p in ax.patches:\n",
    "    ax.annotate(f'{p.get_height()}', (p.get_x() + p.get_width() / 2., p.get_height()),\n",
    "                ha='center', va='center', fontsize=10, color='black', xytext=(0, 10),\n",
    "                textcoords='offset points')\n",
    "plt.show()"
   ]
  },
  {
   "cell_type": "markdown",
   "id": "1147747e",
   "metadata": {},
   "source": [
    "#### [ii] Distribution of Radio feature"
   ]
  },
  {
   "cell_type": "code",
   "execution_count": 10,
   "id": "66974725",
   "metadata": {},
   "outputs": [
    {
     "data": {
      "image/png": "[encoded data removed]",
      "text/plain": [
       "<Figure size 1000x600 with 1 Axes>"
      ]
     },
     "metadata": {},
     "output_type": "display_data"
    }
   ],
   "source": [
    "plt.figure(figsize=(10, 6))\n",
    "ax = sns.histplot(data['Radio'], bins=20, kde=True, color='red')\n",
    "plt.xlabel('Radio')\n",
    "plt.ylabel('Frequency')\n",
    "plt.title('Distribution of Radio feature')\n",
    "for p in ax.patches:\n",
    "    ax.annotate(f'{p.get_height()}', (p.get_x() + p.get_width() / 2., p.get_height()),\n",
    "                ha='center', va='center', fontsize=10, color='black', xytext=(0, 10),\n",
    "                textcoords='offset points')\n",
    "plt.show()"
   ]
  },
  {
   "cell_type": "markdown",
   "id": "4c894472",
   "metadata": {},
   "source": [
    "#### [iii] Distribution of Newspaper feature"
   ]
  },
  {
   "cell_type": "code",
   "execution_count": 11,
   "id": "bbc1a3c7",
   "metadata": {},
   "outputs": [
    {
     "data": {
      "image/png": "[encoded data removed]",
      "text/plain": [
       "<Figure size 1000x600 with 1 Axes>"
      ]
     },
     "metadata": {},
     "output_type": "display_data"
    }
   ],
   "source": [
    "plt.figure(figsize=(10, 6))\n",
    "ax = sns.histplot(data['Newspaper'], bins=20, kde=True)\n",
    "plt.xlabel('Newspaper')\n",
    "plt.ylabel('Frequency')\n",
    "plt.title('Distribution of Newspaper feature')\n",
    "for p in ax.patches:\n",
    "    ax.annotate(f'{p.get_height()}', (p.get_x() + p.get_width() / 2., p.get_height()),\n",
    "                ha='center', va='center', fontsize=10, color='black', xytext=(0, 10),\n",
    "                textcoords='offset points')\n",
    "plt.show()"
   ]
  },
  {
   "cell_type": "markdown",
   "id": "4f3c3fcd",
   "metadata": {},
   "source": [
    "#### [iv] Distribution of Sales"
   ]
  },
  {
   "cell_type": "code",
   "execution_count": 12,
   "id": "931cf5cc",
   "metadata": {},
   "outputs": [
    {
     "data": {
      "image/png": "[encoded data removed]",
      "text/plain": [
       "<Figure size 1000x600 with 1 Axes>"
      ]
     },
     "metadata": {},
     "output_type": "display_data"
    }
   ],
   "source": [
    "plt.figure(figsize=(10, 6))\n",
    "ax = sns.histplot(data['Sales'], bins=20, kde=True, color='darkviolet')\n",
    "plt.xlabel('Sales')\n",
    "plt.ylabel('Frequency')\n",
    "plt.title('Distribution of Sales(target)')\n",
    "for p in ax.patches:\n",
    "    ax.annotate(f'{p.get_height()}', (p.get_x() + p.get_width() / 2., p.get_height()),\n",
    "                ha='center', va='center', fontsize=10, color='black', xytext=(0, 10),\n",
    "                textcoords='offset points')\n",
    "plt.show()"
   ]
  },
  {
   "cell_type": "markdown",
   "id": "c7152172",
   "metadata": {},
   "source": [
    "### 3. Preparing data for Training (Data Modelling)\n",
    "\n",
    "##### Since, we need to predict the Sales using different features of the dataset\n",
    "##### We consider Sales as a seperate dataset say 'y' and all other features as 'x'"
   ]
  },
  {
   "cell_type": "code",
   "execution_count": 13,
   "id": "3e9657b4",
   "metadata": {},
   "outputs": [],
   "source": [
    "x = data.iloc[:,:3]\n",
    "y = data.iloc[:,3:]"
   ]
  },
  {
   "cell_type": "code",
   "execution_count": 14,
   "id": "1b3cb5eb",
   "metadata": {},
   "outputs": [
    {
     "name": "stdout",
     "output_type": "stream",
     "text": [
      "      TV  Radio  Newspaper\n",
      "0  230.1   37.8       69.2\n",
      "1   44.5   39.3       45.1\n",
      "2   17.2   45.9       69.3\n",
      "3  151.5   41.3       58.5\n",
      "4  180.8   10.8       58.4\n"
     ]
    }
   ],
   "source": [
    "print(x.head())"
   ]
  },
  {
   "cell_type": "code",
   "execution_count": 15,
   "id": "58087b1a",
   "metadata": {},
   "outputs": [
    {
     "name": "stdout",
     "output_type": "stream",
     "text": [
      "   Sales\n",
      "0   22.1\n",
      "1   10.4\n",
      "2    9.3\n",
      "3   18.5\n",
      "4   12.9\n"
     ]
    }
   ],
   "source": [
    "print(y.head())"
   ]
  },
  {
   "cell_type": "code",
   "execution_count": 16,
   "id": "0a0d0c25",
   "metadata": {},
   "outputs": [],
   "source": [
    "x_train, x_test, y_train, y_test = train_test_split(x, y, test_size=0.3)"
   ]
  },
  {
   "cell_type": "markdown",
   "id": "0d3d1865",
   "metadata": {},
   "source": [
    "### 4.Training Models using the above data"
   ]
  },
  {
   "cell_type": "markdown",
   "id": "660c2f12",
   "metadata": {},
   "source": [
    "#### [A] Linear Regression Model"
   ]
  },
  {
   "cell_type": "code",
   "execution_count": 17,
   "id": "aaad2d47",
   "metadata": {},
   "outputs": [],
   "source": [
    "model_1 = LinearRegression()\n",
    "model_1.fit(x_train, y_train)\n",
    "y_pred_1 = model_1.predict(x_test)"
   ]
  },
  {
   "cell_type": "code",
   "execution_count": 18,
   "id": "d2a8f660",
   "metadata": {},
   "outputs": [
    {
     "name": "stdout",
     "output_type": "stream",
     "text": [
      "Mean Square Error is : 2.270137441914188\n",
      "R-Squared score is : 0.9144554897064837\n"
     ]
    }
   ],
   "source": [
    "mse = mean_squared_error(y_test, y_pred_1)\n",
    "r2 = r2_score(y_test, y_pred_1)\n",
    "print(\"Mean Square Error is :\", mse)\n",
    "print(\"R-Squared score is :\",r2)"
   ]
  },
  {
   "cell_type": "code",
   "execution_count": 19,
   "id": "e23b1e15",
   "metadata": {},
   "outputs": [
    {
     "data": {
      "image/png": "[encoded data removed]",
      "text/plain": [
       "<Figure size 1000x600 with 1 Axes>"
      ]
     },
     "metadata": {},
     "output_type": "display_data"
    }
   ],
   "source": [
    "plt.figure(figsize=(10, 6))\n",
    "plt.scatter(y_test, y_pred_1, alpha=0.5, color='darkviolet')\n",
    "plt.xlabel('Actual Sales')\n",
    "plt.ylabel('Predicted Sales')\n",
    "plt.title('Actual vs. Predicted Sales (Linear Regression)')\n",
    "plt.show()"
   ]
  },
  {
   "cell_type": "markdown",
   "id": "f0a5ca77",
   "metadata": {},
   "source": [
    "#### [B] Random Forest Regression Model"
   ]
  },
  {
   "cell_type": "code",
   "execution_count": 20,
   "id": "500ed7e6",
   "metadata": {},
   "outputs": [
    {
     "name": "stderr",
     "output_type": "stream",
     "text": [
      "/Library/Frameworks/Python.framework/Versions/3.11/lib/python3.11/site-packages/sklearn/base.py:1351: DataConversionWarning:\n",
      "\n",
      "A column-vector y was passed when a 1d array was expected. Please change the shape of y to (n_samples,), for example using ravel().\n",
      "\n"
     ]
    }
   ],
   "source": [
    "model_2 = RandomForestRegressor() \n",
    "model_2.fit(x_train, y_train) \n",
    "y_pred_2 = model_2.predict(x_test)"
   ]
  },
  {
   "cell_type": "code",
   "execution_count": 21,
   "id": "e04e8a05",
   "metadata": {},
   "outputs": [
    {
     "name": "stdout",
     "output_type": "stream",
     "text": [
      "Mean Square Error is : 0.608025249999998\n",
      "R-Squared score is : 0.9770880734809233\n"
     ]
    }
   ],
   "source": [
    "mse = mean_squared_error(y_test, y_pred_2)\n",
    "r2 = r2_score(y_test, y_pred_2)\n",
    "print(\"Mean Square Error is :\", mse)\n",
    "print(\"R-Squared score is :\",r2)"
   ]
  },
  {
   "cell_type": "code",
   "execution_count": 22,
   "id": "a4ae95ca",
   "metadata": {},
   "outputs": [
    {
     "data": {
      "image/png": "[encoded data removed]",
      "text/plain": [
       "<Figure size 1000x600 with 1 Axes>"
      ]
     },
     "metadata": {},
     "output_type": "display_data"
    }
   ],
   "source": [
    "plt.figure(figsize=(10, 6))\n",
    "\n",
    "plt.scatter(y_test, y_pred_2, label=model_2, alpha=0.5, color='green')\n",
    "plt.xlabel('Actual Sales')\n",
    "plt.ylabel('Predicted Sales')\n",
    "plt.title('Actual vs. Predicted Sales (Random Forest Regression)')\n",
    "\n",
    "plt.legend()\n",
    "plt.show()"
   ]
  },
  {
   "cell_type": "markdown",
   "id": "3a2fa0b3",
   "metadata": {},
   "source": [
    "#### [C] Ridge Regression Model"
   ]
  },
  {
   "cell_type": "code",
   "execution_count": 23,
   "id": "3c2f3506",
   "metadata": {},
   "outputs": [],
   "source": [
    "model_3 = Ridge() \n",
    "model_3.fit(x_train, y_train) \n",
    "y_pred_3 = model_3.predict(x_test)"
   ]
  },
  {
   "cell_type": "code",
   "execution_count": 24,
   "id": "96009586",
   "metadata": {},
   "outputs": [
    {
     "name": "stdout",
     "output_type": "stream",
     "text": [
      "Mean Square Error is : 2.2701128226165808\n",
      "R-Squared score is : 0.9144564174237746\n"
     ]
    }
   ],
   "source": [
    "mse = mean_squared_error(y_test, y_pred_3)\n",
    "r2 = r2_score(y_test, y_pred_3)\n",
    "print(\"Mean Square Error is :\", mse)\n",
    "print(\"R-Squared score is :\",r2)"
   ]
  },
  {
   "cell_type": "code",
   "execution_count": 25,
   "id": "5530c5f1",
   "metadata": {},
   "outputs": [
    {
     "data": {
      "image/png": "[encoded data removed]",
      "text/plain": [
       "<Figure size 1000x600 with 1 Axes>"
      ]
     },
     "metadata": {},
     "output_type": "display_data"
    }
   ],
   "source": [
    "plt.figure(figsize=(10, 6))\n",
    "\n",
    "plt.scatter(y_test, y_pred_3, label=model_3, alpha=0.5, color='darkblue')\n",
    "\n",
    "plt.xlabel('Actual Sales')\n",
    "plt.ylabel('Predicted Sales')\n",
    "plt.title('Actual vs. Predicted Sales (Ridge Regression)')\n",
    "plt.legend()\n",
    "plt.show()"
   ]
  },
  {
   "cell_type": "markdown",
   "id": "03e20152",
   "metadata": {},
   "source": [
    "#### [D] Decision Tree"
   ]
  },
  {
   "cell_type": "code",
   "execution_count": 26,
   "id": "cdd31a0d",
   "metadata": {},
   "outputs": [],
   "source": [
    "model_4 = DecisionTreeRegressor()\n",
    "model_4.fit(x_train, y_train)\n",
    "y_pred_4 = model_4.predict(x_test)"
   ]
  },
  {
   "cell_type": "code",
   "execution_count": 27,
   "id": "3e9f1523",
   "metadata": {},
   "outputs": [
    {
     "name": "stdout",
     "output_type": "stream",
     "text": [
      "Mean Square Error is : 1.5141666666666664\n",
      "R-Squared score is : 0.9429423771392683\n"
     ]
    }
   ],
   "source": [
    "mse = mean_squared_error(y_test, y_pred_4)\n",
    "r2 = r2_score(y_test, y_pred_4)\n",
    "print(\"Mean Square Error is :\", mse)\n",
    "print(\"R-Squared score is :\",r2)"
   ]
  },
  {
   "cell_type": "code",
   "execution_count": 28,
   "id": "9263c0b2",
   "metadata": {},
   "outputs": [
    {
     "data": {
      "image/png": "[encoded data removed]",
      "text/plain": [
       "<Figure size 1000x600 with 1 Axes>"
      ]
     },
     "metadata": {},
     "output_type": "display_data"
    }
   ],
   "source": [
    "plt.figure(figsize=(10, 6))\n",
    "\n",
    "plt.scatter(y_test, y_pred_4, label=model_4, alpha=0.5, color='orange')\n",
    "\n",
    "plt.xlabel('Actual Sales')\n",
    "plt.ylabel('Predicted Sales')\n",
    "plt.title('Actual vs. Predicted Sales (Ridge Regression)')\n",
    "plt.legend()\n",
    "plt.show()"
   ]
  },
  {
   "cell_type": "markdown",
   "id": "5b767035",
   "metadata": {},
   "source": [
    "#### Model r^2 scores of each regression model"
   ]
  },
  {
   "cell_type": "code",
   "execution_count": 29,
   "id": "d8aeabd1",
   "metadata": {},
   "outputs": [
    {
     "data": {
      "text/plain": [
       "{'Linear Regression Model': 0.9144554897064837,\n",
       " 'Random Forest Regression Model': 0.9770880734809233,\n",
       " 'Ridge Regression Model': 0.9144564174237746,\n",
       " 'Decision Tree': 0.9429423771392683}"
      ]
     },
     "execution_count": 29,
     "metadata": {},
     "output_type": "execute_result"
    }
   ],
   "source": [
    "model_r2_scores = {\n",
    "     \"Linear Regression Model\":  r2_score(y_test, y_pred_1),\n",
    "\n",
    "     \"Random Forest Regression Model\":  r2_score(y_test, y_pred_2),\n",
    "\n",
    "     \"Ridge Regression Model\":  r2_score(y_test, y_pred_3),\n",
    "\n",
    "     \"Decision Tree\":  r2_score(y_test, y_pred_4),\n",
    "}\n",
    "\n",
    "model_r2_scores"
   ]
  },
  {
   "cell_type": "code",
   "execution_count": 30,
   "id": "bcfa3199",
   "metadata": {},
   "outputs": [
    {
     "name": "stdout",
     "output_type": "stream",
     "text": [
      "Best Performing Model is Random Forest Regression Model with an R^2 score of 0.9770880734809233\n"
     ]
    }
   ],
   "source": [
    "best_model_name = max(model_r2_scores, key=model_r2_scores.get)\n",
    "best_r2_score = model_r2_scores[best_model_name]\n",
    "\n",
    "print(f\"Best Performing Model is {best_model_name} with an R^2 score of {best_r2_score}\")"
   ]
  },
  {
   "cell_type": "markdown",
   "id": "129f6c43",
   "metadata": {},
   "source": [
    "### 5. Saving the Model having the best fit"
   ]
  },
  {
   "cell_type": "code",
   "execution_count": 31,
   "id": "2ae7880c",
   "metadata": {},
   "outputs": [
    {
     "data": {
      "text/plain": [
       "['random_forest_regressor.pkl']"
      ]
     },
     "execution_count": 31,
     "metadata": {},
     "output_type": "execute_result"
    }
   ],
   "source": [
    "final_model = model_2\n",
    "joblib.dump(final_model, 'random_forest_regressor.pkl')"
   ]
  },
  {
   "cell_type": "code",
   "execution_count": 32,
   "id": "583e8abc",
   "metadata": {},
   "outputs": [
    {
     "data": {
      "image/png": "[encoded data removed]",
      "text/plain": [
       "<Figure size 1000x600 with 1 Axes>"
      ]
     },
     "metadata": {},
     "output_type": "display_data"
    }
   ],
   "source": [
    "feature_importances = pd.Series(final_model.feature_importances_, index=x.columns)\n",
    "plt.figure(figsize=(10, 6))\n",
    "features = feature_importances\n",
    "features.plot(kind='bar')\n",
    "plt.xlabel('Feature')\n",
    "plt.ylabel('Feature Importance Score')\n",
    "plt.title('Features having impact on the Sales(recognised by Random Forest Regression Model)')\n",
    "for index, value in enumerate(features):\n",
    "    plt.text(index, value, f'{value:.2f}', ha='center', va='bottom')\n",
    "plt.show()"
   ]
  }
 ],
 "metadata": {
  "kernelspec": {
   "display_name": "Python 3 (ipykernel)",
   "language": "python",
   "name": "python3"
  },
  "language_info": {
   "codemirror_mode": {
    "name": "ipython",
    "version": 3
   },
   "file_extension": ".py",
   "mimetype": "text/x-python",
   "name": "python",
   "nbconvert_exporter": "python",
   "pygments_lexer": "ipython3",
   "version": "3.11.4"
  }
 },
 "nbformat": 4,
 "nbformat_minor": 5
}
